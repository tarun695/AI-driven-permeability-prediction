{
  "cells": [
    {
      "cell_type": "markdown",
      "metadata": {
        "colab_type": "text",
        "id": "view-in-github"
      },
      "source": [
        "<a href=\"https://colab.research.google.com/github/gashawmg/molecular-descriptors/blob/main/Molecular%20descriptors.ipynb\" target=\"_parent\"><img src=\"https://colab.research.google.com/assets/colab-badge.svg\" alt=\"Open In Colab\"/></a>"
      ]
    },
    {
      "cell_type": "markdown",
      "id": "REl2RANeGN7S",
      "metadata": {
        "id": "REl2RANeGN7S"
      },
      "source": [
        "<div style=\"background-color:lightgreen; border-style: dotted;border-color: yellow;text-align:center;color:blue;font-size:20px;border-radius: 50px;padding: 20px 20px;\"><strong> INDEPENDENT PROJECT</strong></div>\n",
        "\n",
        "# Calculating molecular descriptors using RDkit and Mordred "
      ]
    },
    {
      "cell_type": "code",
      "execution_count": 3,
      "id": "H2LMvAZBGWpc",
      "metadata": {
        "colab": {
          "base_uri": "https://localhost:8080/"
        },
        "id": "H2LMvAZBGWpc",
        "outputId": "9aee499b-2f62-481d-83bb-cc65c8117acc"
      },
      "outputs": [
        {
          "name": "stdout",
          "output_type": "stream",
          "text": [
            "Requirement already satisfied: rdkit-pypi in c:\\python311\\lib\\site-packages (2022.9.5)\n",
            "Requirement already satisfied: numpy in c:\\python311\\lib\\site-packages (from rdkit-pypi) (1.25.2)\n",
            "Requirement already satisfied: Pillow in c:\\python311\\lib\\site-packages (from rdkit-pypi) (10.0.0)\n",
            "Note: you may need to restart the kernel to use updated packages.\n"
          ]
        },
        {
          "name": "stderr",
          "output_type": "stream",
          "text": [
            "\n",
            "[notice] A new release of pip is available: 23.2.1 -> 24.0\n",
            "[notice] To update, run: python.exe -m pip install --upgrade pip\n"
          ]
        },
        {
          "name": "stdout",
          "output_type": "stream",
          "text": [
            "Requirement already satisfied: mordred in c:\\python311\\lib\\site-packages (1.2.0)\n",
            "Requirement already satisfied: six==1.* in c:\\python311\\lib\\site-packages (from mordred) (1.16.0)\n",
            "Requirement already satisfied: numpy==1.* in c:\\python311\\lib\\site-packages (from mordred) (1.25.2)\n",
            "Requirement already satisfied: networkx==2.* in c:\\python311\\lib\\site-packages (from mordred) (2.8.8)\n",
            "Note: you may need to restart the kernel to use updated packages.\n"
          ]
        },
        {
          "name": "stderr",
          "output_type": "stream",
          "text": [
            "\n",
            "[notice] A new release of pip is available: 23.2.1 -> 24.0\n",
            "[notice] To update, run: python.exe -m pip install --upgrade pip\n"
          ]
        }
      ],
      "source": [
        "%pip install rdkit-pypi\n",
        "%pip install mordred"
      ]
    },
    {
      "cell_type": "code",
      "execution_count": 28,
      "id": "5QKaKQNzGN7T",
      "metadata": {
        "id": "5QKaKQNzGN7T"
      },
      "outputs": [],
      "source": [
        "# https://www.rdkit.org/\n",
        "#https://github.com/rdkit/rdkit\n",
        "from rdkit.Chem import AllChem\n",
        "from rdkit import Chem\n",
        "from rdkit.Chem import Descriptors\n",
        "from rdkit.ML.Descriptors import MoleculeDescriptors\n",
        "\n",
        "# https://pandas.pydata.org\n",
        "import pandas as pd\n",
        "\n",
        "# https://numpy.org/doc/stable/release.html\n",
        "import numpy as np\n",
        "\n",
        "#https://github.com/mordred-descriptor/mordred\n",
        "from mordred import Calculator, descriptors"
      ]
    },
    {
      "cell_type": "code",
      "execution_count": 5,
      "id": "EqH5HW25GN7T",
      "metadata": {
        "id": "EqH5HW25GN7T"
      },
      "outputs": [],
      "source": [
        "# import session_info\n",
        "# session_info.show()"
      ]
    },
    {
      "cell_type": "code",
      "execution_count": 55,
      "id": "HvtyckkWGN7U",
      "metadata": {
        "colab": {
          "base_uri": "https://localhost:8080/"
        },
        "id": "HvtyckkWGN7U",
        "outputId": "c1cdb087-e108-45f8-a249-1619f19c71f1"
      },
      "outputs": [
        {
          "data": {
            "text/plain": [
              "(92456, 2)"
            ]
          },
          "execution_count": 55,
          "metadata": {},
          "output_type": "execute_result"
        }
      ],
      "source": [
        "# It is the energy gap between HOMO-LUMO\n",
        "url = 'data_ip.csv'\n",
        "dataset = pd.read_csv(url)\n",
        "dataset.shape"
      ]
    },
    {
      "cell_type": "code",
      "execution_count": 56,
      "id": "BH4NCEv5GN7U",
      "metadata": {
        "colab": {
          "base_uri": "https://localhost:8080/",
          "height": 206
        },
        "id": "BH4NCEv5GN7U",
        "outputId": "e96cf3bf-5b70-4195-fa0d-7b46c1570e5a"
      },
      "outputs": [
        {
          "data": {
            "text/html": [
              "<div>\n",
              "<style scoped>\n",
              "    .dataframe tbody tr th:only-of-type {\n",
              "        vertical-align: middle;\n",
              "    }\n",
              "\n",
              "    .dataframe tbody tr th {\n",
              "        vertical-align: top;\n",
              "    }\n",
              "\n",
              "    .dataframe thead th {\n",
              "        text-align: right;\n",
              "    }\n",
              "</style>\n",
              "<table border=\"1\" class=\"dataframe\">\n",
              "  <thead>\n",
              "    <tr style=\"text-align: right;\">\n",
              "      <th></th>\n",
              "      <th>SMILES</th>\n",
              "      <th>Column8</th>\n",
              "    </tr>\n",
              "  </thead>\n",
              "  <tbody>\n",
              "    <tr>\n",
              "      <th>0</th>\n",
              "      <td>CC</td>\n",
              "      <td>0.269</td>\n",
              "    </tr>\n",
              "    <tr>\n",
              "      <th>1</th>\n",
              "      <td>CN</td>\n",
              "      <td>-4.686</td>\n",
              "    </tr>\n",
              "    <tr>\n",
              "      <th>2</th>\n",
              "      <td>CO</td>\n",
              "      <td>-2.865</td>\n",
              "    </tr>\n",
              "    <tr>\n",
              "      <th>3</th>\n",
              "      <td>CF</td>\n",
              "      <td>-1.005</td>\n",
              "    </tr>\n",
              "    <tr>\n",
              "      <th>4</th>\n",
              "      <td>FF</td>\n",
              "      <td>-0.191</td>\n",
              "    </tr>\n",
              "  </tbody>\n",
              "</table>\n",
              "</div>"
            ],
            "text/plain": [
              "  SMILES  Column8\n",
              "0     CC    0.269\n",
              "1     CN   -4.686\n",
              "2     CO   -2.865\n",
              "3     CF   -1.005\n",
              "4     FF   -0.191"
            ]
          },
          "execution_count": 56,
          "metadata": {},
          "output_type": "execute_result"
        }
      ],
      "source": [
        "dataset.head()"
      ]
    },
    {
      "cell_type": "markdown",
      "id": "_5BvScqxGN7U",
      "metadata": {
        "id": "_5BvScqxGN7U"
      },
      "source": [
        "## 1. Generate canonical SMILES"
      ]
    },
    {
      "cell_type": "code",
      "execution_count": 57,
      "id": "I16JLREkGN7U",
      "metadata": {
        "id": "I16JLREkGN7U"
      },
      "outputs": [],
      "source": [
        "# There might be one or more valid SMILES that can represent one compound\n",
        "def canonical_smiles(smiles):\n",
        "    mols = [Chem.MolFromSmiles(smi) for smi in smiles] \n",
        "    smiles = [Chem.MolToSmiles(mol) for mol in mols]\n",
        "    return smiles"
      ]
    },
    {
      "cell_type": "code",
      "execution_count": 58,
      "id": "weYdMhyXGN7U",
      "metadata": {
        "colab": {
          "base_uri": "https://localhost:8080/",
          "height": 167
        },
        "id": "weYdMhyXGN7U",
        "outputId": "068c0576-c054-4c7a-95f0-922ec031185d"
      },
      "outputs": [
        {
          "data": {
            "image/png": "[encoded data removed]",
            "text/plain": [
              "<rdkit.Chem.rdchem.Mol at 0x1da46acc7b0>"
            ]
          },
          "execution_count": 58,
          "metadata": {},
          "output_type": "execute_result"
        }
      ],
      "source": [
        "from rdkit.Chem import Draw\n",
        "from rdkit.Chem.Draw import IPythonConsole\n",
        "\n",
        "Chem.MolFromSmiles('C=CCC')"
      ]
    },
    {
      "cell_type": "code",
      "execution_count": 59,
      "id": "jlVYVL6QGN7U",
      "metadata": {
        "colab": {
          "base_uri": "https://localhost:8080/",
          "height": 167
        },
        "id": "jlVYVL6QGN7U",
        "outputId": "cc70f6e0-07a5-408c-c9cb-26d8acae3f4a"
      },
      "outputs": [
        {
          "data": {
            "image/png": "[encoded data removed]",
            "text/plain": [
              "<rdkit.Chem.rdchem.Mol at 0x1da46acca50>"
            ]
          },
          "execution_count": 59,
          "metadata": {},
          "output_type": "execute_result"
        }
      ],
      "source": [
        "Chem.MolFromSmiles('CCC=C')"
      ]
    },
    {
      "cell_type": "code",
      "execution_count": 60,
      "id": "updDZ-KgGN7V",
      "metadata": {
        "colab": {
          "base_uri": "https://localhost:8080/"
        },
        "id": "updDZ-KgGN7V",
        "outputId": "b39a5faa-ce43-4403-82a6-d133c5d33f3b"
      },
      "outputs": [
        {
          "data": {
            "text/plain": [
              "['C=CCC']"
            ]
          },
          "execution_count": 60,
          "metadata": {},
          "output_type": "execute_result"
        }
      ],
      "source": [
        "canonical_smiles(['C=CCC'])"
      ]
    },
    {
      "cell_type": "code",
      "execution_count": 61,
      "id": "tXbPJC5WGN7V",
      "metadata": {
        "colab": {
          "base_uri": "https://localhost:8080/"
        },
        "id": "tXbPJC5WGN7V",
        "outputId": "db3cf248-b625-47db-b573-128a886eae4b"
      },
      "outputs": [
        {
          "data": {
            "text/plain": [
              "['C=CCC']"
            ]
          },
          "execution_count": 61,
          "metadata": {},
          "output_type": "execute_result"
        }
      ],
      "source": [
        "canonical_smiles(['CCC=C'])"
      ]
    },
    {
      "cell_type": "code",
      "execution_count": 62,
      "id": "F1rEcEO6GN7V",
      "metadata": {
        "colab": {
          "base_uri": "https://localhost:8080/"
        },
        "id": "F1rEcEO6GN7V",
        "outputId": "4b60c513-0243-4f24-9806-d13e5a250d9e"
      },
      "outputs": [
        {
          "data": {
            "text/plain": [
              "92456"
            ]
          },
          "execution_count": 62,
          "metadata": {},
          "output_type": "execute_result"
        }
      ],
      "source": [
        "# Canonical SMILES\n",
        "Canon_SMILES = canonical_smiles(dataset.SMILES)\n",
        "len(Canon_SMILES)"
      ]
    },
    {
      "cell_type": "code",
      "execution_count": 63,
      "id": "G5kFafFmGN7V",
      "metadata": {
        "colab": {
          "base_uri": "https://localhost:8080/",
          "height": 424
        },
        "id": "G5kFafFmGN7V",
        "outputId": "bf617cd4-b232-4abf-a6ee-7172be7fc8ee"
      },
      "outputs": [
        {
          "data": {
            "text/html": [
              "<div>\n",
              "<style scoped>\n",
              "    .dataframe tbody tr th:only-of-type {\n",
              "        vertical-align: middle;\n",
              "    }\n",
              "\n",
              "    .dataframe tbody tr th {\n",
              "        vertical-align: top;\n",
              "    }\n",
              "\n",
              "    .dataframe thead th {\n",
              "        text-align: right;\n",
              "    }\n",
              "</style>\n",
              "<table border=\"1\" class=\"dataframe\">\n",
              "  <thead>\n",
              "    <tr style=\"text-align: right;\">\n",
              "      <th></th>\n",
              "      <th>SMILES</th>\n",
              "      <th>Column8</th>\n",
              "    </tr>\n",
              "  </thead>\n",
              "  <tbody>\n",
              "    <tr>\n",
              "      <th>0</th>\n",
              "      <td>CC</td>\n",
              "      <td>0.269</td>\n",
              "    </tr>\n",
              "    <tr>\n",
              "      <th>1</th>\n",
              "      <td>CN</td>\n",
              "      <td>-4.686</td>\n",
              "    </tr>\n",
              "    <tr>\n",
              "      <th>2</th>\n",
              "      <td>CO</td>\n",
              "      <td>-2.865</td>\n",
              "    </tr>\n",
              "    <tr>\n",
              "      <th>3</th>\n",
              "      <td>CF</td>\n",
              "      <td>-1.005</td>\n",
              "    </tr>\n",
              "    <tr>\n",
              "      <th>4</th>\n",
              "      <td>FF</td>\n",
              "      <td>-0.191</td>\n",
              "    </tr>\n",
              "    <tr>\n",
              "      <th>...</th>\n",
              "      <td>...</td>\n",
              "      <td>...</td>\n",
              "    </tr>\n",
              "    <tr>\n",
              "      <th>92451</th>\n",
              "      <td>C#CC#CC#CC=CC#C</td>\n",
              "      <td>0.071</td>\n",
              "    </tr>\n",
              "    <tr>\n",
              "      <th>92452</th>\n",
              "      <td>N#CC#CC#CC#CC#N</td>\n",
              "      <td>-0.191</td>\n",
              "    </tr>\n",
              "    <tr>\n",
              "      <th>92453</th>\n",
              "      <td>C#CC#CC#CC#CC#N</td>\n",
              "      <td>0.071</td>\n",
              "    </tr>\n",
              "    <tr>\n",
              "      <th>92454</th>\n",
              "      <td>C#CC#CC#CC#CC#C</td>\n",
              "      <td>0.071</td>\n",
              "    </tr>\n",
              "    <tr>\n",
              "      <th>92455</th>\n",
              "      <td>CC=c1ccc(=CC)cc1</td>\n",
              "      <td>0.071</td>\n",
              "    </tr>\n",
              "  </tbody>\n",
              "</table>\n",
              "<p>92456 rows × 2 columns</p>\n",
              "</div>"
            ],
            "text/plain": [
              "                 SMILES  Column8\n",
              "0                    CC    0.269\n",
              "1                    CN   -4.686\n",
              "2                    CO   -2.865\n",
              "3                    CF   -1.005\n",
              "4                    FF   -0.191\n",
              "...                 ...      ...\n",
              "92451   C#CC#CC#CC=CC#C    0.071\n",
              "92452   N#CC#CC#CC#CC#N   -0.191\n",
              "92453   C#CC#CC#CC#CC#N    0.071\n",
              "92454   C#CC#CC#CC#CC#C    0.071\n",
              "92455  CC=c1ccc(=CC)cc1    0.071\n",
              "\n",
              "[92456 rows x 2 columns]"
            ]
          },
          "execution_count": 63,
          "metadata": {},
          "output_type": "execute_result"
        }
      ],
      "source": [
        "# Put the smiles in the dataframe\n",
        "dataset['SMILES'] = Canon_SMILES\n",
        "dataset"
      ]
    },
    {
      "cell_type": "code",
      "execution_count": 64,
      "id": "LlGfpkjQGN7V",
      "metadata": {
        "colab": {
          "base_uri": "https://localhost:8080/"
        },
        "id": "LlGfpkjQGN7V",
        "outputId": "6a4cdd63-be2a-474c-da58-0be7c18db271"
      },
      "outputs": [
        {
          "data": {
            "text/plain": [
              "0"
            ]
          },
          "execution_count": 64,
          "metadata": {},
          "output_type": "execute_result"
        }
      ],
      "source": [
        "# Create a list for duplicate smiles\n",
        "duplicates_smiles = dataset[dataset['SMILES'].duplicated()]['SMILES'].values\n",
        "len(duplicates_smiles)"
      ]
    },
    {
      "cell_type": "code",
      "execution_count": 66,
      "id": "aPM_xYMyGN7V",
      "metadata": {
        "colab": {
          "base_uri": "https://localhost:8080/",
          "height": 1000
        },
        "id": "aPM_xYMyGN7V",
        "outputId": "019505e4-6bd5-41e7-962d-9d965c60ea7d"
      },
      "outputs": [
        {
          "data": {
            "text/html": [
              "<div>\n",
              "<style scoped>\n",
              "    .dataframe tbody tr th:only-of-type {\n",
              "        vertical-align: middle;\n",
              "    }\n",
              "\n",
              "    .dataframe tbody tr th {\n",
              "        vertical-align: top;\n",
              "    }\n",
              "\n",
              "    .dataframe thead th {\n",
              "        text-align: right;\n",
              "    }\n",
              "</style>\n",
              "<table border=\"1\" class=\"dataframe\">\n",
              "  <thead>\n",
              "    <tr style=\"text-align: right;\">\n",
              "      <th></th>\n",
              "      <th>SMILES</th>\n",
              "      <th>Column8</th>\n",
              "    </tr>\n",
              "  </thead>\n",
              "  <tbody>\n",
              "  </tbody>\n",
              "</table>\n",
              "</div>"
            ],
            "text/plain": [
              "Empty DataFrame\n",
              "Columns: [SMILES, Column8]\n",
              "Index: []"
            ]
          },
          "execution_count": 66,
          "metadata": {},
          "output_type": "execute_result"
        }
      ],
      "source": [
        "# Create a list for duplicate smiles\n",
        "dataset[dataset['SMILES'].isin(duplicates_smiles)].sort_values(by=['SMILES'])"
      ]
    },
    {
      "cell_type": "markdown",
      "id": "oq8O9-_SGN7W",
      "metadata": {
        "id": "oq8O9-_SGN7W"
      },
      "source": [
        "## 2.  Drop duplicate values"
      ]
    },
    {
      "cell_type": "code",
      "execution_count": 67,
      "id": "Li5kJj7BGN7W",
      "metadata": {
        "colab": {
          "base_uri": "https://localhost:8080/"
        },
        "id": "Li5kJj7BGN7W",
        "outputId": "499904d0-b013-4ce3-df97-575a12f2a59d"
      },
      "outputs": [],
      "source": [
        "dataset_new = dataset.drop_duplicates(subset=['SMILES'])\n",
        "# len(dataset_new)"
      ]
    },
    {
      "cell_type": "code",
      "execution_count": 68,
      "id": "7NCRxGE7GN7W",
      "metadata": {
        "colab": {
          "base_uri": "https://localhost:8080/",
          "height": 424
        },
        "id": "7NCRxGE7GN7W",
        "outputId": "b60a5834-7db4-48a8-8740-6f87c458106c"
      },
      "outputs": [],
      "source": [
        "# dataset_new = dataset"
      ]
    },
    {
      "cell_type": "markdown",
      "id": "xBuGdg9mGN7W",
      "metadata": {
        "id": "xBuGdg9mGN7W"
      },
      "source": [
        "## Calculate descriptors using RDkit"
      ]
    },
    {
      "cell_type": "markdown",
      "id": "fIDylotoGN7W",
      "metadata": {
        "id": "fIDylotoGN7W"
      },
      "source": [
        "### a. General molecular descriptors-about 200 molecular descriptors"
      ]
    },
    {
      "cell_type": "code",
      "execution_count": 69,
      "id": "uS5_dHCvGN7W",
      "metadata": {
        "id": "uS5_dHCvGN7W"
      },
      "outputs": [],
      "source": [
        "def RDkit_descriptors(smiles):\n",
        "    mols = [Chem.MolFromSmiles(i) for i in smiles] \n",
        "    calc = MoleculeDescriptors.MolecularDescriptorCalculator([x[0] for x in Descriptors._descList])\n",
        "    desc_names = calc.GetDescriptorNames()\n",
        "    \n",
        "    Mol_descriptors =[]\n",
        "    for mol in mols:\n",
        "        # add hydrogens to molecules\n",
        "        mol=Chem.AddHs(mol)\n",
        "        # Calculate all 200 descriptors for each molecule\n",
        "        descriptors = calc.CalcDescriptors(mol)\n",
        "        Mol_descriptors.append(descriptors)\n",
        "    return Mol_descriptors,desc_names \n",
        "\n",
        "# Function call\n",
        "Mol_descriptors,desc_names = RDkit_descriptors(dataset_new['SMILES'])"
      ]
    },
    {
      "cell_type": "code",
      "execution_count": 70,
      "id": "6XE4on1MGN7X",
      "metadata": {
        "colab": {
          "base_uri": "https://localhost:8080/",
          "height": 488
        },
        "id": "6XE4on1MGN7X",
        "outputId": "9f3d6d12-2e6a-43d1-e1b6-e12d2dc28c6b"
      },
      "outputs": [],
      "source": [
        "df_with_200_descriptors = pd.DataFrame(Mol_descriptors,columns=desc_names)\n",
        "df_with_200_descriptors.to_csv('output_file.csv', index=False)\n",
        "# df_with_200_descriptors"
      ]
    },
    {
      "cell_type": "markdown",
      "id": "0Zy4Hh8yGN7X",
      "metadata": {
        "id": "0Zy4Hh8yGN7X"
      },
      "source": [
        "### b. Fingerprints"
      ]
    },
    {
      "cell_type": "code",
      "execution_count": 21,
      "id": "i_7-gRpWGN7X",
      "metadata": {
        "id": "i_7-gRpWGN7X"
      },
      "outputs": [],
      "source": [
        "def morgan_fpts(data):\n",
        "    Morgan_fpts = []\n",
        "    for i in data:\n",
        "        mol = Chem.MolFromSmiles(i) \n",
        "        fpts =  AllChem.GetMorganFingerprintAsBitVect(mol,2,2048)\n",
        "        mfpts = np.array(fpts)\n",
        "        Morgan_fpts.append(mfpts)  \n",
        "    return np.array(Morgan_fpts)"
      ]
    },
    {
      "cell_type": "code",
      "execution_count": 22,
      "id": "OPQ8NkjpGN7X",
      "metadata": {
        "colab": {
          "base_uri": "https://localhost:8080/"
        },
        "id": "OPQ8NkjpGN7X",
        "outputId": "6c59d245-85d1-43f4-bbbf-079aed5e85a5"
      },
      "outputs": [
        {
          "data": {
            "text/plain": [
              "(2873, 2048)"
            ]
          },
          "execution_count": 22,
          "metadata": {},
          "output_type": "execute_result"
        }
      ],
      "source": [
        "Morgan_fpts = morgan_fpts(dataset_new['SMILES'])\n",
        "Morgan_fpts.shape"
      ]
    },
    {
      "cell_type": "code",
      "execution_count": 23,
      "id": "yHYbYGUKGN7X",
      "metadata": {
        "colab": {
          "base_uri": "https://localhost:8080/",
          "height": 488
        },
        "id": "yHYbYGUKGN7X",
        "outputId": "bff03837-6f6d-49bf-d66d-0927cc7875d2"
      },
      "outputs": [
        {
          "data": {
            "text/html": [
              "<div>\n",
              "<style scoped>\n",
              "    .dataframe tbody tr th:only-of-type {\n",
              "        vertical-align: middle;\n",
              "    }\n",
              "\n",
              "    .dataframe tbody tr th {\n",
              "        vertical-align: top;\n",
              "    }\n",
              "\n",
              "    .dataframe thead th {\n",
              "        text-align: right;\n",
              "    }\n",
              "</style>\n",
              "<table border=\"1\" class=\"dataframe\">\n",
              "  <thead>\n",
              "    <tr style=\"text-align: right;\">\n",
              "      <th></th>\n",
              "      <th>Col_0</th>\n",
              "      <th>Col_1</th>\n",
              "      <th>Col_2</th>\n",
              "      <th>Col_3</th>\n",
              "      <th>Col_4</th>\n",
              "      <th>Col_5</th>\n",
              "      <th>Col_6</th>\n",
              "      <th>Col_7</th>\n",
              "      <th>Col_8</th>\n",
              "      <th>Col_9</th>\n",
              "      <th>...</th>\n",
              "      <th>Col_2038</th>\n",
              "      <th>Col_2039</th>\n",
              "      <th>Col_2040</th>\n",
              "      <th>Col_2041</th>\n",
              "      <th>Col_2042</th>\n",
              "      <th>Col_2043</th>\n",
              "      <th>Col_2044</th>\n",
              "      <th>Col_2045</th>\n",
              "      <th>Col_2046</th>\n",
              "      <th>Col_2047</th>\n",
              "    </tr>\n",
              "  </thead>\n",
              "  <tbody>\n",
              "    <tr>\n",
              "      <th>0</th>\n",
              "      <td>0</td>\n",
              "      <td>0</td>\n",
              "      <td>0</td>\n",
              "      <td>0</td>\n",
              "      <td>0</td>\n",
              "      <td>0</td>\n",
              "      <td>0</td>\n",
              "      <td>0</td>\n",
              "      <td>0</td>\n",
              "      <td>0</td>\n",
              "      <td>...</td>\n",
              "      <td>0</td>\n",
              "      <td>0</td>\n",
              "      <td>0</td>\n",
              "      <td>0</td>\n",
              "      <td>0</td>\n",
              "      <td>0</td>\n",
              "      <td>0</td>\n",
              "      <td>0</td>\n",
              "      <td>0</td>\n",
              "      <td>0</td>\n",
              "    </tr>\n",
              "    <tr>\n",
              "      <th>1</th>\n",
              "      <td>0</td>\n",
              "      <td>0</td>\n",
              "      <td>0</td>\n",
              "      <td>0</td>\n",
              "      <td>0</td>\n",
              "      <td>0</td>\n",
              "      <td>0</td>\n",
              "      <td>0</td>\n",
              "      <td>0</td>\n",
              "      <td>0</td>\n",
              "      <td>...</td>\n",
              "      <td>0</td>\n",
              "      <td>0</td>\n",
              "      <td>0</td>\n",
              "      <td>0</td>\n",
              "      <td>0</td>\n",
              "      <td>0</td>\n",
              "      <td>0</td>\n",
              "      <td>0</td>\n",
              "      <td>0</td>\n",
              "      <td>0</td>\n",
              "    </tr>\n",
              "    <tr>\n",
              "      <th>2</th>\n",
              "      <td>0</td>\n",
              "      <td>0</td>\n",
              "      <td>0</td>\n",
              "      <td>0</td>\n",
              "      <td>0</td>\n",
              "      <td>0</td>\n",
              "      <td>0</td>\n",
              "      <td>0</td>\n",
              "      <td>1</td>\n",
              "      <td>0</td>\n",
              "      <td>...</td>\n",
              "      <td>0</td>\n",
              "      <td>0</td>\n",
              "      <td>0</td>\n",
              "      <td>0</td>\n",
              "      <td>0</td>\n",
              "      <td>0</td>\n",
              "      <td>0</td>\n",
              "      <td>0</td>\n",
              "      <td>0</td>\n",
              "      <td>0</td>\n",
              "    </tr>\n",
              "    <tr>\n",
              "      <th>3</th>\n",
              "      <td>0</td>\n",
              "      <td>0</td>\n",
              "      <td>0</td>\n",
              "      <td>0</td>\n",
              "      <td>0</td>\n",
              "      <td>0</td>\n",
              "      <td>0</td>\n",
              "      <td>0</td>\n",
              "      <td>0</td>\n",
              "      <td>0</td>\n",
              "      <td>...</td>\n",
              "      <td>0</td>\n",
              "      <td>0</td>\n",
              "      <td>0</td>\n",
              "      <td>0</td>\n",
              "      <td>0</td>\n",
              "      <td>0</td>\n",
              "      <td>0</td>\n",
              "      <td>0</td>\n",
              "      <td>0</td>\n",
              "      <td>0</td>\n",
              "    </tr>\n",
              "    <tr>\n",
              "      <th>4</th>\n",
              "      <td>0</td>\n",
              "      <td>1</td>\n",
              "      <td>0</td>\n",
              "      <td>0</td>\n",
              "      <td>0</td>\n",
              "      <td>0</td>\n",
              "      <td>0</td>\n",
              "      <td>0</td>\n",
              "      <td>0</td>\n",
              "      <td>0</td>\n",
              "      <td>...</td>\n",
              "      <td>0</td>\n",
              "      <td>0</td>\n",
              "      <td>0</td>\n",
              "      <td>0</td>\n",
              "      <td>0</td>\n",
              "      <td>0</td>\n",
              "      <td>0</td>\n",
              "      <td>0</td>\n",
              "      <td>0</td>\n",
              "      <td>0</td>\n",
              "    </tr>\n",
              "    <tr>\n",
              "      <th>...</th>\n",
              "      <td>...</td>\n",
              "      <td>...</td>\n",
              "      <td>...</td>\n",
              "      <td>...</td>\n",
              "      <td>...</td>\n",
              "      <td>...</td>\n",
              "      <td>...</td>\n",
              "      <td>...</td>\n",
              "      <td>...</td>\n",
              "      <td>...</td>\n",
              "      <td>...</td>\n",
              "      <td>...</td>\n",
              "      <td>...</td>\n",
              "      <td>...</td>\n",
              "      <td>...</td>\n",
              "      <td>...</td>\n",
              "      <td>...</td>\n",
              "      <td>...</td>\n",
              "      <td>...</td>\n",
              "      <td>...</td>\n",
              "      <td>...</td>\n",
              "    </tr>\n",
              "    <tr>\n",
              "      <th>2868</th>\n",
              "      <td>0</td>\n",
              "      <td>0</td>\n",
              "      <td>0</td>\n",
              "      <td>0</td>\n",
              "      <td>0</td>\n",
              "      <td>0</td>\n",
              "      <td>0</td>\n",
              "      <td>0</td>\n",
              "      <td>0</td>\n",
              "      <td>0</td>\n",
              "      <td>...</td>\n",
              "      <td>0</td>\n",
              "      <td>0</td>\n",
              "      <td>0</td>\n",
              "      <td>0</td>\n",
              "      <td>0</td>\n",
              "      <td>0</td>\n",
              "      <td>0</td>\n",
              "      <td>0</td>\n",
              "      <td>0</td>\n",
              "      <td>0</td>\n",
              "    </tr>\n",
              "    <tr>\n",
              "      <th>2869</th>\n",
              "      <td>0</td>\n",
              "      <td>0</td>\n",
              "      <td>0</td>\n",
              "      <td>0</td>\n",
              "      <td>0</td>\n",
              "      <td>0</td>\n",
              "      <td>0</td>\n",
              "      <td>0</td>\n",
              "      <td>0</td>\n",
              "      <td>0</td>\n",
              "      <td>...</td>\n",
              "      <td>0</td>\n",
              "      <td>0</td>\n",
              "      <td>0</td>\n",
              "      <td>0</td>\n",
              "      <td>0</td>\n",
              "      <td>0</td>\n",
              "      <td>0</td>\n",
              "      <td>0</td>\n",
              "      <td>0</td>\n",
              "      <td>0</td>\n",
              "    </tr>\n",
              "    <tr>\n",
              "      <th>2870</th>\n",
              "      <td>0</td>\n",
              "      <td>0</td>\n",
              "      <td>0</td>\n",
              "      <td>0</td>\n",
              "      <td>0</td>\n",
              "      <td>0</td>\n",
              "      <td>0</td>\n",
              "      <td>0</td>\n",
              "      <td>0</td>\n",
              "      <td>0</td>\n",
              "      <td>...</td>\n",
              "      <td>0</td>\n",
              "      <td>0</td>\n",
              "      <td>0</td>\n",
              "      <td>0</td>\n",
              "      <td>0</td>\n",
              "      <td>0</td>\n",
              "      <td>0</td>\n",
              "      <td>0</td>\n",
              "      <td>0</td>\n",
              "      <td>0</td>\n",
              "    </tr>\n",
              "    <tr>\n",
              "      <th>2871</th>\n",
              "      <td>0</td>\n",
              "      <td>0</td>\n",
              "      <td>0</td>\n",
              "      <td>0</td>\n",
              "      <td>0</td>\n",
              "      <td>0</td>\n",
              "      <td>0</td>\n",
              "      <td>0</td>\n",
              "      <td>0</td>\n",
              "      <td>0</td>\n",
              "      <td>...</td>\n",
              "      <td>0</td>\n",
              "      <td>0</td>\n",
              "      <td>0</td>\n",
              "      <td>0</td>\n",
              "      <td>0</td>\n",
              "      <td>0</td>\n",
              "      <td>0</td>\n",
              "      <td>0</td>\n",
              "      <td>0</td>\n",
              "      <td>0</td>\n",
              "    </tr>\n",
              "    <tr>\n",
              "      <th>2872</th>\n",
              "      <td>0</td>\n",
              "      <td>0</td>\n",
              "      <td>0</td>\n",
              "      <td>0</td>\n",
              "      <td>0</td>\n",
              "      <td>0</td>\n",
              "      <td>0</td>\n",
              "      <td>0</td>\n",
              "      <td>0</td>\n",
              "      <td>0</td>\n",
              "      <td>...</td>\n",
              "      <td>0</td>\n",
              "      <td>0</td>\n",
              "      <td>0</td>\n",
              "      <td>0</td>\n",
              "      <td>0</td>\n",
              "      <td>0</td>\n",
              "      <td>0</td>\n",
              "      <td>0</td>\n",
              "      <td>0</td>\n",
              "      <td>0</td>\n",
              "    </tr>\n",
              "  </tbody>\n",
              "</table>\n",
              "<p>2873 rows × 2048 columns</p>\n",
              "</div>"
            ],
            "text/plain": [
              "      Col_0  Col_1  Col_2  Col_3  Col_4  Col_5  Col_6  Col_7  Col_8  Col_9  \\\n",
              "0         0      0      0      0      0      0      0      0      0      0   \n",
              "1         0      0      0      0      0      0      0      0      0      0   \n",
              "2         0      0      0      0      0      0      0      0      1      0   \n",
              "3         0      0      0      0      0      0      0      0      0      0   \n",
              "4         0      1      0      0      0      0      0      0      0      0   \n",
              "...     ...    ...    ...    ...    ...    ...    ...    ...    ...    ...   \n",
              "2868      0      0      0      0      0      0      0      0      0      0   \n",
              "2869      0      0      0      0      0      0      0      0      0      0   \n",
              "2870      0      0      0      0      0      0      0      0      0      0   \n",
              "2871      0      0      0      0      0      0      0      0      0      0   \n",
              "2872      0      0      0      0      0      0      0      0      0      0   \n",
              "\n",
              "      ...  Col_2038  Col_2039  Col_2040  Col_2041  Col_2042  Col_2043  \\\n",
              "0     ...         0         0         0         0         0         0   \n",
              "1     ...         0         0         0         0         0         0   \n",
              "2     ...         0         0         0         0         0         0   \n",
              "3     ...         0         0         0         0         0         0   \n",
              "4     ...         0         0         0         0         0         0   \n",
              "...   ...       ...       ...       ...       ...       ...       ...   \n",
              "2868  ...         0         0         0         0         0         0   \n",
              "2869  ...         0         0         0         0         0         0   \n",
              "2870  ...         0         0         0         0         0         0   \n",
              "2871  ...         0         0         0         0         0         0   \n",
              "2872  ...         0         0         0         0         0         0   \n",
              "\n",
              "      Col_2044  Col_2045  Col_2046  Col_2047  \n",
              "0            0         0         0         0  \n",
              "1            0         0         0         0  \n",
              "2            0         0         0         0  \n",
              "3            0         0         0         0  \n",
              "4            0         0         0         0  \n",
              "...        ...       ...       ...       ...  \n",
              "2868         0         0         0         0  \n",
              "2869         0         0         0         0  \n",
              "2870         0         0         0         0  \n",
              "2871         0         0         0         0  \n",
              "2872         0         0         0         0  \n",
              "\n",
              "[2873 rows x 2048 columns]"
            ]
          },
          "execution_count": 23,
          "metadata": {},
          "output_type": "execute_result"
        }
      ],
      "source": [
        "Morgan_fingerprints = pd.DataFrame(Morgan_fpts,columns=['Col_{}'.format(i) for i in range(Morgan_fpts.shape[1])])\n",
        "Morgan_fingerprints"
      ]
    },
    {
      "cell_type": "markdown",
      "id": "NleM70CaGN7X",
      "metadata": {
        "id": "NleM70CaGN7X"
      },
      "source": [
        "## Calculate descreptors using Mordred-1826 descriptors"
      ]
    },
    {
      "cell_type": "code",
      "execution_count": 24,
      "id": "Xha47cFtGN7X",
      "metadata": {
        "id": "Xha47cFtGN7X"
      },
      "outputs": [],
      "source": [
        "def All_Mordred_descriptors(data):\n",
        "    calc = Calculator(descriptors, ignore_3D=False)\n",
        "    mols = [Chem.MolFromSmiles(smi) for smi in data]\n",
        "    \n",
        "    # pandas df\n",
        "    df = calc.pandas(mols)\n",
        "    return df"
      ]
    },
    {
      "cell_type": "code",
      "execution_count": 25,
      "id": "Hnes8xS8GN7Y",
      "metadata": {
        "colab": {
          "base_uri": "https://localhost:8080/"
        },
        "id": "Hnes8xS8GN7Y",
        "outputId": "f2510b63-9f34-4c98-b46e-30dc445002e9"
      },
      "outputs": [
        {
          "name": "stderr",
          "output_type": "stream",
          "text": [
            "100%|██████████| 2873/2873 [01:01<00:00, 46.65it/s]\n"
          ]
        }
      ],
      "source": [
        "mordred_descriptors = All_Mordred_descriptors(dataset_new['SMILES'])"
      ]
    },
    {
      "cell_type": "code",
      "execution_count": 26,
      "id": "vJtQJ2J2GN7Y",
      "metadata": {
        "colab": {
          "base_uri": "https://localhost:8080/"
        },
        "id": "vJtQJ2J2GN7Y",
        "outputId": "6a65ecec-ed97-407b-e9d9-e2661babae0c"
      },
      "outputs": [
        {
          "data": {
            "text/plain": [
              "(2873, 1826)"
            ]
          },
          "execution_count": 26,
          "metadata": {},
          "output_type": "execute_result"
        }
      ],
      "source": [
        "mordred_descriptors.shape"
      ]
    },
    {
      "cell_type": "code",
      "execution_count": 27,
      "id": "v-eiwQqLGN7Y",
      "metadata": {
        "colab": {
          "base_uri": "https://localhost:8080/",
          "height": 488
        },
        "id": "v-eiwQqLGN7Y",
        "outputId": "eab6b4db-5d71-49db-ce89-464f12b47014"
      },
      "outputs": [
        {
          "data": {
            "text/html": [
              "<div>\n",
              "<style scoped>\n",
              "    .dataframe tbody tr th:only-of-type {\n",
              "        vertical-align: middle;\n",
              "    }\n",
              "\n",
              "    .dataframe tbody tr th {\n",
              "        vertical-align: top;\n",
              "    }\n",
              "\n",
              "    .dataframe thead th {\n",
              "        text-align: right;\n",
              "    }\n",
              "</style>\n",
              "<table border=\"1\" class=\"dataframe\">\n",
              "  <thead>\n",
              "    <tr style=\"text-align: right;\">\n",
              "      <th></th>\n",
              "      <th>ABC</th>\n",
              "      <th>ABCGG</th>\n",
              "      <th>nAcid</th>\n",
              "      <th>nBase</th>\n",
              "      <th>SpAbs_A</th>\n",
              "      <th>SpMax_A</th>\n",
              "      <th>SpDiam_A</th>\n",
              "      <th>SpAD_A</th>\n",
              "      <th>SpMAD_A</th>\n",
              "      <th>LogEE_A</th>\n",
              "      <th>...</th>\n",
              "      <th>SRW10</th>\n",
              "      <th>TSRW10</th>\n",
              "      <th>MW</th>\n",
              "      <th>AMW</th>\n",
              "      <th>WPath</th>\n",
              "      <th>WPol</th>\n",
              "      <th>Zagreb1</th>\n",
              "      <th>Zagreb2</th>\n",
              "      <th>mZagreb1</th>\n",
              "      <th>mZagreb2</th>\n",
              "    </tr>\n",
              "  </thead>\n",
              "  <tbody>\n",
              "    <tr>\n",
              "      <th>0</th>\n",
              "      <td>module 'numpy' has no attribute 'float'.\\n`np....</td>\n",
              "      <td>module 'numpy' has no attribute 'float'.\\n`np....</td>\n",
              "      <td>0</td>\n",
              "      <td>0</td>\n",
              "      <td>12.527341</td>\n",
              "      <td>2.311476</td>\n",
              "      <td>4.622953</td>\n",
              "      <td>12.527341</td>\n",
              "      <td>1.138849</td>\n",
              "      <td>3.302522</td>\n",
              "      <td>...</td>\n",
              "      <td>9.182249</td>\n",
              "      <td>41.326257</td>\n",
              "      <td>160.049985</td>\n",
              "      <td>8.891666</td>\n",
              "      <td>152</td>\n",
              "      <td>13</td>\n",
              "      <td>54.0</td>\n",
              "      <td>59.0</td>\n",
              "      <td>5.284722</td>\n",
              "      <td>2.333333</td>\n",
              "    </tr>\n",
              "    <tr>\n",
              "      <th>1</th>\n",
              "      <td>module 'numpy' has no attribute 'float'.\\n`np....</td>\n",
              "      <td>module 'numpy' has no attribute 'float'.\\n`np....</td>\n",
              "      <td>1</td>\n",
              "      <td>0</td>\n",
              "      <td>7.727407</td>\n",
              "      <td>1.931852</td>\n",
              "      <td>3.863703</td>\n",
              "      <td>7.727407</td>\n",
              "      <td>1.103915</td>\n",
              "      <td>2.752227</td>\n",
              "      <td>...</td>\n",
              "      <td>7.321850</td>\n",
              "      <td>31.336140</td>\n",
              "      <td>122.013457</td>\n",
              "      <td>8.715247</td>\n",
              "      <td>52</td>\n",
              "      <td>4</td>\n",
              "      <td>24.0</td>\n",
              "      <td>22.0</td>\n",
              "      <td>3.861111</td>\n",
              "      <td>1.833333</td>\n",
              "    </tr>\n",
              "    <tr>\n",
              "      <th>2</th>\n",
              "      <td>module 'numpy' has no attribute 'float'.\\n`np....</td>\n",
              "      <td>module 'numpy' has no attribute 'float'.\\n`np....</td>\n",
              "      <td>1</td>\n",
              "      <td>0</td>\n",
              "      <td>30.648742</td>\n",
              "      <td>2.324224</td>\n",
              "      <td>4.648448</td>\n",
              "      <td>30.648742</td>\n",
              "      <td>1.225950</td>\n",
              "      <td>4.118873</td>\n",
              "      <td>...</td>\n",
              "      <td>9.931735</td>\n",
              "      <td>59.295845</td>\n",
              "      <td>361.108086</td>\n",
              "      <td>8.024624</td>\n",
              "      <td>1882</td>\n",
              "      <td>35</td>\n",
              "      <td>124.0</td>\n",
              "      <td>139.0</td>\n",
              "      <td>9.729167</td>\n",
              "      <td>5.486111</td>\n",
              "    </tr>\n",
              "    <tr>\n",
              "      <th>3</th>\n",
              "      <td>module 'numpy' has no attribute 'float'.\\n`np....</td>\n",
              "      <td>module 'numpy' has no attribute 'float'.\\n`np....</td>\n",
              "      <td>0</td>\n",
              "      <td>0</td>\n",
              "      <td>10.792280</td>\n",
              "      <td>2.245827</td>\n",
              "      <td>4.491654</td>\n",
              "      <td>10.792280</td>\n",
              "      <td>1.199142</td>\n",
              "      <td>3.099448</td>\n",
              "      <td>...</td>\n",
              "      <td>8.806724</td>\n",
              "      <td>37.839725</td>\n",
              "      <td>160.979905</td>\n",
              "      <td>11.498565</td>\n",
              "      <td>84</td>\n",
              "      <td>10</td>\n",
              "      <td>42.0</td>\n",
              "      <td>46.0</td>\n",
              "      <td>4.083333</td>\n",
              "      <td>2.027778</td>\n",
              "    </tr>\n",
              "    <tr>\n",
              "      <th>4</th>\n",
              "      <td>module 'numpy' has no attribute 'float'.\\n`np....</td>\n",
              "      <td>module 'numpy' has no attribute 'float'.\\n`np....</td>\n",
              "      <td>0</td>\n",
              "      <td>0</td>\n",
              "      <td>12.133645</td>\n",
              "      <td>2.047810</td>\n",
              "      <td>4.095621</td>\n",
              "      <td>12.133645</td>\n",
              "      <td>1.103059</td>\n",
              "      <td>3.219224</td>\n",
              "      <td>...</td>\n",
              "      <td>8.131825</td>\n",
              "      <td>38.565088</td>\n",
              "      <td>156.151415</td>\n",
              "      <td>5.037142</td>\n",
              "      <td>194</td>\n",
              "      <td>9</td>\n",
              "      <td>42.0</td>\n",
              "      <td>41.0</td>\n",
              "      <td>5.472222</td>\n",
              "      <td>2.750000</td>\n",
              "    </tr>\n",
              "    <tr>\n",
              "      <th>...</th>\n",
              "      <td>...</td>\n",
              "      <td>...</td>\n",
              "      <td>...</td>\n",
              "      <td>...</td>\n",
              "      <td>...</td>\n",
              "      <td>...</td>\n",
              "      <td>...</td>\n",
              "      <td>...</td>\n",
              "      <td>...</td>\n",
              "      <td>...</td>\n",
              "      <td>...</td>\n",
              "      <td>...</td>\n",
              "      <td>...</td>\n",
              "      <td>...</td>\n",
              "      <td>...</td>\n",
              "      <td>...</td>\n",
              "      <td>...</td>\n",
              "      <td>...</td>\n",
              "      <td>...</td>\n",
              "      <td>...</td>\n",
              "      <td>...</td>\n",
              "    </tr>\n",
              "    <tr>\n",
              "      <th>2868</th>\n",
              "      <td>module 'numpy' has no attribute 'float'.\\n`np....</td>\n",
              "      <td>module 'numpy' has no attribute 'float'.\\n`np....</td>\n",
              "      <td>0</td>\n",
              "      <td>0</td>\n",
              "      <td>38.253985</td>\n",
              "      <td>2.374938</td>\n",
              "      <td>4.749876</td>\n",
              "      <td>38.253985</td>\n",
              "      <td>1.366214</td>\n",
              "      <td>4.258939</td>\n",
              "      <td>...</td>\n",
              "      <td>10.073357</td>\n",
              "      <td>62.971588</td>\n",
              "      <td>398.135324</td>\n",
              "      <td>7.656449</td>\n",
              "      <td>2014</td>\n",
              "      <td>41</td>\n",
              "      <td>142.0</td>\n",
              "      <td>164.0</td>\n",
              "      <td>6.166667</td>\n",
              "      <td>6.361111</td>\n",
              "    </tr>\n",
              "    <tr>\n",
              "      <th>2869</th>\n",
              "      <td>module 'numpy' has no attribute 'float'.\\n`np....</td>\n",
              "      <td>module 'numpy' has no attribute 'float'.\\n`np....</td>\n",
              "      <td>0</td>\n",
              "      <td>0</td>\n",
              "      <td>13.098358</td>\n",
              "      <td>2.369838</td>\n",
              "      <td>4.633950</td>\n",
              "      <td>13.098358</td>\n",
              "      <td>1.309836</td>\n",
              "      <td>3.261311</td>\n",
              "      <td>...</td>\n",
              "      <td>9.161465</td>\n",
              "      <td>53.745115</td>\n",
              "      <td>211.929533</td>\n",
              "      <td>14.128636</td>\n",
              "      <td>105</td>\n",
              "      <td>12</td>\n",
              "      <td>52.0</td>\n",
              "      <td>61.0</td>\n",
              "      <td>2.833333</td>\n",
              "      <td>2.222222</td>\n",
              "    </tr>\n",
              "    <tr>\n",
              "      <th>2870</th>\n",
              "      <td>module 'numpy' has no attribute 'float'.\\n`np....</td>\n",
              "      <td>module 'numpy' has no attribute 'float'.\\n`np....</td>\n",
              "      <td>0</td>\n",
              "      <td>0</td>\n",
              "      <td>22.978744</td>\n",
              "      <td>2.442763</td>\n",
              "      <td>4.885526</td>\n",
              "      <td>22.978744</td>\n",
              "      <td>1.276597</td>\n",
              "      <td>3.800055</td>\n",
              "      <td>...</td>\n",
              "      <td>9.763593</td>\n",
              "      <td>50.871918</td>\n",
              "      <td>247.120843</td>\n",
              "      <td>7.060596</td>\n",
              "      <td>574</td>\n",
              "      <td>28</td>\n",
              "      <td>88.0</td>\n",
              "      <td>103.0</td>\n",
              "      <td>6.055556</td>\n",
              "      <td>4.277778</td>\n",
              "    </tr>\n",
              "    <tr>\n",
              "      <th>2871</th>\n",
              "      <td>module 'numpy' has no attribute 'float'.\\n`np....</td>\n",
              "      <td>module 'numpy' has no attribute 'float'.\\n`np....</td>\n",
              "      <td>0</td>\n",
              "      <td>0</td>\n",
              "      <td>12.170709</td>\n",
              "      <td>2.322596</td>\n",
              "      <td>4.516123</td>\n",
              "      <td>12.170709</td>\n",
              "      <td>1.352301</td>\n",
              "      <td>3.160409</td>\n",
              "      <td>...</td>\n",
              "      <td>8.914761</td>\n",
              "      <td>51.887188</td>\n",
              "      <td>134.019021</td>\n",
              "      <td>8.934601</td>\n",
              "      <td>79</td>\n",
              "      <td>9</td>\n",
              "      <td>46.0</td>\n",
              "      <td>53.0</td>\n",
              "      <td>1.972222</td>\n",
              "      <td>2.027778</td>\n",
              "    </tr>\n",
              "    <tr>\n",
              "      <th>2872</th>\n",
              "      <td>module 'numpy' has no attribute 'float'.\\n`np....</td>\n",
              "      <td>module 'numpy' has no attribute 'float'.\\n`np....</td>\n",
              "      <td>0</td>\n",
              "      <td>0</td>\n",
              "      <td>10.891331</td>\n",
              "      <td>2.263821</td>\n",
              "      <td>4.527642</td>\n",
              "      <td>10.891331</td>\n",
              "      <td>1.210148</td>\n",
              "      <td>3.099901</td>\n",
              "      <td>...</td>\n",
              "      <td>8.876126</td>\n",
              "      <td>37.975562</td>\n",
              "      <td>122.073165</td>\n",
              "      <td>6.424903</td>\n",
              "      <td>82</td>\n",
              "      <td>11</td>\n",
              "      <td>42.0</td>\n",
              "      <td>47.0</td>\n",
              "      <td>4.083333</td>\n",
              "      <td>2.055556</td>\n",
              "    </tr>\n",
              "  </tbody>\n",
              "</table>\n",
              "<p>2873 rows × 1826 columns</p>\n",
              "</div>"
            ],
            "text/plain": [
              "                                                    ABC  \\\n",
              "0     module 'numpy' has no attribute 'float'.\\n`np....   \n",
              "1     module 'numpy' has no attribute 'float'.\\n`np....   \n",
              "2     module 'numpy' has no attribute 'float'.\\n`np....   \n",
              "3     module 'numpy' has no attribute 'float'.\\n`np....   \n",
              "4     module 'numpy' has no attribute 'float'.\\n`np....   \n",
              "...                                                 ...   \n",
              "2868  module 'numpy' has no attribute 'float'.\\n`np....   \n",
              "2869  module 'numpy' has no attribute 'float'.\\n`np....   \n",
              "2870  module 'numpy' has no attribute 'float'.\\n`np....   \n",
              "2871  module 'numpy' has no attribute 'float'.\\n`np....   \n",
              "2872  module 'numpy' has no attribute 'float'.\\n`np....   \n",
              "\n",
              "                                                  ABCGG  nAcid  nBase  \\\n",
              "0     module 'numpy' has no attribute 'float'.\\n`np....      0      0   \n",
              "1     module 'numpy' has no attribute 'float'.\\n`np....      1      0   \n",
              "2     module 'numpy' has no attribute 'float'.\\n`np....      1      0   \n",
              "3     module 'numpy' has no attribute 'float'.\\n`np....      0      0   \n",
              "4     module 'numpy' has no attribute 'float'.\\n`np....      0      0   \n",
              "...                                                 ...    ...    ...   \n",
              "2868  module 'numpy' has no attribute 'float'.\\n`np....      0      0   \n",
              "2869  module 'numpy' has no attribute 'float'.\\n`np....      0      0   \n",
              "2870  module 'numpy' has no attribute 'float'.\\n`np....      0      0   \n",
              "2871  module 'numpy' has no attribute 'float'.\\n`np....      0      0   \n",
              "2872  module 'numpy' has no attribute 'float'.\\n`np....      0      0   \n",
              "\n",
              "        SpAbs_A   SpMax_A  SpDiam_A     SpAD_A   SpMAD_A   LogEE_A  ...  \\\n",
              "0     12.527341  2.311476  4.622953  12.527341  1.138849  3.302522  ...   \n",
              "1      7.727407  1.931852  3.863703   7.727407  1.103915  2.752227  ...   \n",
              "2     30.648742  2.324224  4.648448  30.648742  1.225950  4.118873  ...   \n",
              "3     10.792280  2.245827  4.491654  10.792280  1.199142  3.099448  ...   \n",
              "4     12.133645  2.047810  4.095621  12.133645  1.103059  3.219224  ...   \n",
              "...         ...       ...       ...        ...       ...       ...  ...   \n",
              "2868  38.253985  2.374938  4.749876  38.253985  1.366214  4.258939  ...   \n",
              "2869  13.098358  2.369838  4.633950  13.098358  1.309836  3.261311  ...   \n",
              "2870  22.978744  2.442763  4.885526  22.978744  1.276597  3.800055  ...   \n",
              "2871  12.170709  2.322596  4.516123  12.170709  1.352301  3.160409  ...   \n",
              "2872  10.891331  2.263821  4.527642  10.891331  1.210148  3.099901  ...   \n",
              "\n",
              "          SRW10     TSRW10          MW        AMW  WPath WPol  Zagreb1  \\\n",
              "0      9.182249  41.326257  160.049985   8.891666    152   13     54.0   \n",
              "1      7.321850  31.336140  122.013457   8.715247     52    4     24.0   \n",
              "2      9.931735  59.295845  361.108086   8.024624   1882   35    124.0   \n",
              "3      8.806724  37.839725  160.979905  11.498565     84   10     42.0   \n",
              "4      8.131825  38.565088  156.151415   5.037142    194    9     42.0   \n",
              "...         ...        ...         ...        ...    ...  ...      ...   \n",
              "2868  10.073357  62.971588  398.135324   7.656449   2014   41    142.0   \n",
              "2869   9.161465  53.745115  211.929533  14.128636    105   12     52.0   \n",
              "2870   9.763593  50.871918  247.120843   7.060596    574   28     88.0   \n",
              "2871   8.914761  51.887188  134.019021   8.934601     79    9     46.0   \n",
              "2872   8.876126  37.975562  122.073165   6.424903     82   11     42.0   \n",
              "\n",
              "      Zagreb2  mZagreb1  mZagreb2  \n",
              "0        59.0  5.284722  2.333333  \n",
              "1        22.0  3.861111  1.833333  \n",
              "2       139.0  9.729167  5.486111  \n",
              "3        46.0  4.083333  2.027778  \n",
              "4        41.0  5.472222  2.750000  \n",
              "...       ...       ...       ...  \n",
              "2868    164.0  6.166667  6.361111  \n",
              "2869     61.0  2.833333  2.222222  \n",
              "2870    103.0  6.055556  4.277778  \n",
              "2871     53.0  1.972222  2.027778  \n",
              "2872     47.0  4.083333  2.055556  \n",
              "\n",
              "[2873 rows x 1826 columns]"
            ]
          },
          "execution_count": 27,
          "metadata": {},
          "output_type": "execute_result"
        }
      ],
      "source": [
        "mordred_descriptors"
      ]
    },
    {
      "cell_type": "code",
      "execution_count": null,
      "id": "140f5947",
      "metadata": {},
      "outputs": [],
      "source": []
    },
    {
      "cell_type": "code",
      "execution_count": null,
      "id": "a7bb781d",
      "metadata": {},
      "outputs": [],
      "source": []
    }
  ],
  "metadata": {
    "colab": {
      "include_colab_link": true,
      "name": "Molecular descriptors.ipynb",
      "provenance": []
    },
    "kernelspec": {
      "display_name": "Python 3",
      "language": "python",
      "name": "python3"
    },
    "language_info": {
      "codemirror_mode": {
        "name": "ipython",
        "version": 3
      },
      "file_extension": ".py",
      "mimetype": "text/x-python",
      "name": "python",
      "nbconvert_exporter": "python",
      "pygments_lexer": "ipython3",
      "version": "3.11.4"
    }
  },
  "nbformat": 4,
  "nbformat_minor": 5
}
